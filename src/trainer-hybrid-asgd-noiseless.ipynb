{
  "cells": [
    {
      "cell_type": "markdown",
      "metadata": {
        "id": "QS6Q9xZD0DIv"
      },
      "source": [
        "# Training: Quantum case"
      ]
    },
    {
      "cell_type": "markdown",
      "metadata": {
        "id": "X-Y8rgF80DIz"
      },
      "source": [
        "## Preparation\n",
        "\n",
        "We start with importing NumPy and specifying some training hyperparameters."
      ]
    },
    {
      "cell_type": "code",
      "execution_count": 1,
      "metadata": {
        "id": "MQymlzWp0DI0"
      },
      "outputs": [],
      "source": [
        "import os\n",
        "import warnings\n",
        "\n",
        "warnings.filterwarnings('ignore')\n",
        "os.environ['TOKENIZERS_PARALLELISM'] = 'true'"
      ]
    },
    {
      "cell_type": "code",
      "execution_count": 2,
      "metadata": {
        "id": "gOzbedQo0DI1"
      },
      "outputs": [],
      "source": [
        "import numpy as np\n",
        "\n",
        "BATCH_SIZE = 10\n",
        "EPOCHS = 130\n",
        "SEED = 2"
      ]
    },
    {
      "cell_type": "markdown",
      "metadata": {
        "id": "sG6BaHDu0DI2"
      },
      "source": [
        "### Input data\n",
        "\n",
        "Let's read the data and print some example sentences."
      ]
    },
    {
      "cell_type": "code",
      "execution_count": 3,
      "metadata": {
        "id": "Gr5ydxAE0DI2"
      },
      "outputs": [],
      "source": [
        "def read_data(filename):\n",
        "    labels, sentences = [], []\n",
        "    with open(filename) as f:\n",
        "        for line in f:\n",
        "            t = int(line[0])\n",
        "            labels.append([t, 1-t])\n",
        "            sentences.append(line[1:].strip())\n",
        "    return labels, sentences\n",
        "\n",
        "\n",
        "train_labels, train_data = read_data('../data/restaurant_v3_train.txt')\n",
        "val_labels, val_data = read_data('../data/restaurant_v3_dev.txt')\n",
        "test_labels, test_data = read_data('../data/restaurant_v3_test.txt')"
      ]
    },
    {
      "cell_type": "code",
      "execution_count": 4,
      "metadata": {
        "id": "PlJeZ7Ns0DI3",
        "nbsphinx": "hidden"
      },
      "outputs": [],
      "source": [
        "import os\n",
        "\n",
        "TESTING = False\n",
        "\n",
        "if TESTING:\n",
        "    train_labels, train_data = train_labels[:2], train_data[:2]\n",
        "    val_labels, val_data = val_labels[:2], val_data[:2]\n",
        "    test_labels, test_data = test_labels[:2], test_data[:2]\n",
        "    EPOCHS = 10"
      ]
    },
    {
      "cell_type": "code",
      "execution_count": 5,
      "metadata": {
        "colab": {
          "base_uri": "https://localhost:8080/"
        },
        "id": "WqB_O0Da0DI4",
        "outputId": "e24c7033-b8c3-4cd6-b50a-91418503948e"
      },
      "outputs": [
        {
          "data": {
            "text/plain": [
              "['I love the restaurant',\n",
              " 'I dislike the restaurant',\n",
              " 'I loved the great food',\n",
              " 'I loved the nice food',\n",
              " 'I loved the tasty food']"
            ]
          },
          "execution_count": 5,
          "metadata": {},
          "output_type": "execute_result"
        }
      ],
      "source": [
        "train_data[:5]"
      ]
    },
    {
      "cell_type": "code",
      "execution_count": 6,
      "metadata": {
        "colab": {
          "base_uri": "https://localhost:8080/"
        },
        "id": "zqwMK7vs0DI6",
        "outputId": "31a88057-41d6-44bb-89af-6f7bbe24ec6f"
      },
      "outputs": [
        {
          "data": {
            "text/plain": [
              "[[1, 0], [0, 1], [1, 0], [1, 0], [1, 0]]"
            ]
          },
          "execution_count": 6,
          "metadata": {},
          "output_type": "execute_result"
        }
      ],
      "source": [
        "train_labels[:5]"
      ]
    },
    {
      "cell_type": "markdown",
      "metadata": {
        "id": "XIVM8XZS0DI6"
      },
      "source": [
        "### Creating and parameterising diagrams"
      ]
    },
    {
      "cell_type": "code",
      "execution_count": 7,
      "metadata": {
        "colab": {
          "base_uri": "https://localhost:8080/"
        },
        "id": "nMNh2rnS0DI6",
        "outputId": "96a0002a-d387-458c-8b48-b3b34b55d289"
      },
      "outputs": [
        {
          "name": "stderr",
          "output_type": "stream",
          "text": [
            "Tagging sentences.\n",
            "Parsing tagged sentences.\n",
            "Turning parse trees to diagrams.\n",
            "Tagging sentences.\n",
            "Parsing tagged sentences.\n",
            "Turning parse trees to diagrams.\n",
            "Tagging sentences.\n",
            "Parsing tagged sentences.\n",
            "Turning parse trees to diagrams.\n"
          ]
        }
      ],
      "source": [
        "from lambeq import BobcatParser\n",
        "\n",
        "parser = BobcatParser(root_cats=('NP', 'N'), verbose='text')\n",
        "\n",
        "raw_train_diagrams = parser.sentences2diagrams(train_data, suppress_exceptions=True)\n",
        "raw_val_diagrams = parser.sentences2diagrams(val_data, suppress_exceptions=True)\n",
        "raw_test_diagrams = parser.sentences2diagrams(test_data, suppress_exceptions=True)"
      ]
    },
    {
      "cell_type": "markdown",
      "metadata": {
        "id": "gyqqWSox0DI7"
      },
      "source": [
        "### Filter and simplify diagrams"
      ]
    },
    {
      "cell_type": "code",
      "execution_count": 8,
      "metadata": {
        "id": "cxZ9wDNp0DI7"
      },
      "outputs": [],
      "source": [
        "train_diagrams = [\n",
        "    diagram.normal_form()\n",
        "    for diagram in raw_train_diagrams if diagram is not None\n",
        "]\n",
        "val_diagrams = [\n",
        "    diagram.normal_form()\n",
        "    for diagram in raw_val_diagrams if diagram is not None\n",
        "]\n",
        "test_diagrams = [\n",
        "    diagram.normal_form()\n",
        "    for diagram in raw_test_diagrams if diagram is not None\n",
        "]\n",
        "\n",
        "train_labels = [\n",
        "    label for (diagram, label)\n",
        "    in zip(raw_train_diagrams, train_labels)\n",
        "    if diagram is not None]\n",
        "val_labels = [\n",
        "    label for (diagram, label)\n",
        "    in zip(raw_val_diagrams, val_labels)\n",
        "    if diagram is not None\n",
        "]\n",
        "test_labels = [\n",
        "    label for (diagram, label)\n",
        "    in zip(raw_test_diagrams, test_labels)\n",
        "    if diagram is not None\n",
        "]"
      ]
    },
    {
      "cell_type": "markdown",
      "metadata": {
        "id": "yQMD0D600DI7"
      },
      "source": [
        "Let's see the form of the diagram for a relative clause on the subject of a sentence:"
      ]
    },
    {
      "cell_type": "code",
      "execution_count": 9,
      "metadata": {
        "colab": {
          "base_uri": "https://localhost:8080/",
          "height": 536
        },
        "id": "ntVljXM_0DI8",
        "outputId": "f8f39f9a-ca20-457a-e491-f5a7d11a9fa8"
      },
      "outputs": [
        {
          "data": {
            "image/png": "[encoded data removed]",
            "text/plain": [
              "<Figure size 648x360 with 1 Axes>"
            ]
          },
          "metadata": {},
          "output_type": "display_data"
        }
      ],
      "source": [
        "train_diagrams[0].draw(figsize=(9, 5), fontsize=12)"
      ]
    },
    {
      "cell_type": "markdown",
      "metadata": {
        "id": "12YNh8CD0DI8"
      },
      "source": [
        "In object-based relative clauses the noun that follows the relative pronoun is the object of the sentence:"
      ]
    },
    {
      "cell_type": "code",
      "execution_count": 10,
      "metadata": {
        "colab": {
          "base_uri": "https://localhost:8080/",
          "height": 536
        },
        "id": "YDR5JjfM0DI8",
        "outputId": "1a7652f3-32e0-46a8-b212-96a648ab1b60"
      },
      "outputs": [
        {
          "data": {
            "image/png": "[encoded data removed]",
            "text/plain": [
              "<Figure size 648x360 with 1 Axes>"
            ]
          },
          "metadata": {},
          "output_type": "display_data"
        }
      ],
      "source": [
        "train_diagrams[-1].draw(figsize=(9, 5), fontsize=12)"
      ]
    },
    {
      "cell_type": "markdown",
      "metadata": {
        "id": "HLG_UoFs0DI9"
      },
      "source": [
        "### Create circuits"
      ]
    },
    {
      "cell_type": "code",
      "execution_count": 11,
      "metadata": {
        "colab": {
          "base_uri": "https://localhost:8080/",
          "height": 1000
        },
        "id": "Zueael_v0DI9",
        "outputId": "88f950ea-b819-4384-831c-e55712d51d33"
      },
      "outputs": [
        {
          "data": {
            "image/png": "[encoded data removed]",
            "text/plain": [
              "<Figure size 648x720 with 1 Axes>"
            ]
          },
          "metadata": {},
          "output_type": "display_data"
        }
      ],
      "source": [
        "from lambeq import AtomicType, IQPAnsatz, RemoveCupsRewriter\n",
        "\n",
        "ansatz = IQPAnsatz({AtomicType.NOUN: 1, AtomicType.SENTENCE: 0},\n",
        "                   n_layers=1, n_single_qubit_params=3)\n",
        "remove_cups = RemoveCupsRewriter()\n",
        "\n",
        "train_circuits = [ansatz(remove_cups(diagram)) for diagram in train_diagrams]\n",
        "val_circuits =  [ansatz(remove_cups(diagram))  for diagram in val_diagrams]\n",
        "test_circuits =  [ansatz(remove_cups(diagram))  for diagram in test_diagrams]\n",
        "\n",
        "train_circuits[0].draw(figsize=(9, 10))"
      ]
    },
    {
      "cell_type": "code",
      "execution_count": 12,
      "metadata": {
        "colab": {
          "base_uri": "https://localhost:8080/",
          "height": 114
        },
        "id": "jXSvW4yY0DI9",
        "outputId": "a1378294-5383-438a-ff14-e6a1d63496f9"
      },
      "outputs": [
        {
          "data": {
            "image/png": "[encoded data removed]",
            "text/plain": [
              "<Figure size 648x432 with 1 Axes>"
            ]
          },
          "metadata": {},
          "output_type": "display_data"
        }
      ],
      "source": [
        "from lambeq.backend import draw_equation\n",
        "\n",
        "original_diagram = train_diagrams[0]\n",
        "removed_cups_diagram = remove_cups(original_diagram)\n",
        "\n",
        "draw_equation(original_diagram, removed_cups_diagram, symbol='-->', figsize=(9, 6), asymmetry=0.3, fontsize=12)"
      ]
    },
    {
      "cell_type": "markdown",
      "metadata": {
        "id": "9uCTjZcW0DI-"
      },
      "source": [
        "## Training\n",
        "### Instantiate the model"
      ]
    },
    {
      "cell_type": "code",
      "execution_count": 13,
      "metadata": {
        "id": "iIrXk2PF0DI-"
      },
      "outputs": [],
      "source": [
        "from lambeq import PennyLaneModel\n",
        "\n",
        "all_circuits = train_circuits + val_circuits + test_circuits\n",
        "\n",
        "# if no backend_config is provided, the default is used, which is the same as below\n",
        "backend_config = {'backend': 'default.qubit'}   # this is the default PennyLane simulator\n",
        "model = PennyLaneModel.from_diagrams(all_circuits,\n",
        "                                     probabilities=True,\n",
        "                                     normalize=True,\n",
        "                                     backend_config=backend_config)\n",
        "model.initialise_weights()"
      ]
    },
    {
      "cell_type": "markdown",
      "metadata": {
        "id": "rYCFEwVe0DI-"
      },
      "source": [
        "### Define loss and evaluation metric"
      ]
    },
    {
      "cell_type": "code",
      "execution_count": 14,
      "metadata": {
        "id": "QpdOSkni0DI-"
      },
      "outputs": [],
      "source": [
        "import torch\n",
        "\n",
        "def acc(y_hat, y):\n",
        "    return (torch.argmax(y_hat, dim=1) ==\n",
        "            torch.argmax(y, dim=1)).sum().item()/len(y)\n",
        "\n",
        "def loss(y_hat, y):\n",
        "    return torch.nn.functional.mse_loss(y_hat, y)"
      ]
    },
    {
      "cell_type": "markdown",
      "metadata": {
        "id": "PT6ZkNFi0DI-"
      },
      "source": [
        "### Initialise trainer"
      ]
    },
    {
      "cell_type": "code",
      "execution_count": 15,
      "metadata": {
        "id": "FiRaQdB60DI_"
      },
      "outputs": [],
      "source": [
        "from lambeq import PytorchTrainer\n",
        "\n",
        "BATCH_SIZE = 10\n",
        "EPOCHS = 100\n",
        "LEARNING_RATE = 0.1\n",
        "SEED = 42\n",
        "\n",
        "trainer = PytorchTrainer(\n",
        "    model=model,\n",
        "    loss_function=loss,\n",
        "    optimizer=torch.optim.ASGD,\n",
        "    learning_rate=LEARNING_RATE,\n",
        "    epochs=EPOCHS,\n",
        "    evaluate_functions={'acc': acc},\n",
        "    evaluate_on_train=True,\n",
        "    use_tensorboard=False,\n",
        "    verbose='text',\n",
        "    seed=SEED)"
      ]
    },
    {
      "cell_type": "markdown",
      "metadata": {
        "id": "p87QEhVN0DI_"
      },
      "source": [
        "### Create datasets"
      ]
    },
    {
      "cell_type": "code",
      "execution_count": 16,
      "metadata": {
        "id": "HVFH9zSu0DI_"
      },
      "outputs": [],
      "source": [
        "from lambeq import Dataset\n",
        "\n",
        "train_dataset = Dataset(\n",
        "            train_circuits,\n",
        "            train_labels,\n",
        "            batch_size=BATCH_SIZE)\n",
        "\n",
        "val_dataset = Dataset(val_circuits, val_labels, shuffle=False)"
      ]
    },
    {
      "cell_type": "markdown",
      "metadata": {
        "id": "VcbjqtlY0DI_"
      },
      "source": [
        "### Train"
      ]
    },
    {
      "cell_type": "code",
      "execution_count": 17,
      "metadata": {
        "colab": {
          "base_uri": "https://localhost:8080/"
        },
        "id": "GtiQNEOU0DJA",
        "outputId": "ac26c74e-ce1c-4029-9b5d-9c6a53fe6d85"
      },
      "outputs": [
        {
          "name": "stderr",
          "output_type": "stream",
          "text": [
            "Epoch 1:    train/loss: 0.3893   valid/loss: 0.2553   train/acc: 0.5706   valid/acc: 0.6000\n",
            "Epoch 2:    train/loss: 0.2488   valid/loss: 0.2228   train/acc: 0.6647   valid/acc: 0.6600\n",
            "Epoch 3:    train/loss: 0.1107   valid/loss: 0.2151   train/acc: 0.6647   valid/acc: 0.6800\n",
            "Epoch 4:    train/loss: 0.1978   valid/loss: 0.1774   train/acc: 0.7176   valid/acc: 0.7200\n",
            "Epoch 5:    train/loss: 0.0973   valid/loss: 0.1366   train/acc: 0.7941   valid/acc: 0.7800\n",
            "Epoch 6:    train/loss: 0.1307   valid/loss: 0.1224   train/acc: 0.8059   valid/acc: 0.8600\n",
            "Epoch 7:    train/loss: 0.0458   valid/loss: 0.1037   train/acc: 0.8882   valid/acc: 0.8600\n",
            "Epoch 8:    train/loss: 0.0350   valid/loss: 0.0912   train/acc: 0.9059   valid/acc: 0.8800\n",
            "Epoch 9:    train/loss: 0.0824   valid/loss: 0.0612   train/acc: 0.9059   valid/acc: 0.9200\n",
            "Epoch 10:   train/loss: 0.0528   valid/loss: 0.0524   train/acc: 0.9235   valid/acc: 0.9600\n",
            "Epoch 11:   train/loss: 0.0562   valid/loss: 0.0503   train/acc: 0.9412   valid/acc: 0.9400\n",
            "Epoch 12:   train/loss: 0.0670   valid/loss: 0.0399   train/acc: 0.9588   valid/acc: 0.9600\n",
            "Epoch 13:   train/loss: 0.0273   valid/loss: 0.0444   train/acc: 0.9471   valid/acc: 0.9600\n",
            "Epoch 14:   train/loss: 0.0163   valid/loss: 0.0332   train/acc: 0.9706   valid/acc: 0.9600\n",
            "Epoch 15:   train/loss: 0.0197   valid/loss: 0.0224   train/acc: 0.9941   valid/acc: 1.0000\n",
            "Epoch 16:   train/loss: 0.0120   valid/loss: 0.0245   train/acc: 1.0000   valid/acc: 1.0000\n",
            "Epoch 17:   train/loss: 0.0420   valid/loss: 0.0256   train/acc: 0.9882   valid/acc: 1.0000\n",
            "Epoch 18:   train/loss: 0.0167   valid/loss: 0.0198   train/acc: 0.9941   valid/acc: 1.0000\n",
            "Epoch 19:   train/loss: 0.0147   valid/loss: 0.0203   train/acc: 0.9941   valid/acc: 1.0000\n",
            "Epoch 20:   train/loss: 0.0035   valid/loss: 0.0140   train/acc: 1.0000   valid/acc: 1.0000\n",
            "Epoch 21:   train/loss: 0.0139   valid/loss: 0.0132   train/acc: 1.0000   valid/acc: 1.0000\n",
            "Epoch 22:   train/loss: 0.0059   valid/loss: 0.0131   train/acc: 1.0000   valid/acc: 1.0000\n",
            "Epoch 23:   train/loss: 0.0040   valid/loss: 0.0117   train/acc: 1.0000   valid/acc: 1.0000\n",
            "Epoch 24:   train/loss: 0.0060   valid/loss: 0.0136   train/acc: 1.0000   valid/acc: 1.0000\n",
            "Epoch 25:   train/loss: 0.0046   valid/loss: 0.0090   train/acc: 1.0000   valid/acc: 1.0000\n",
            "Epoch 26:   train/loss: 0.0116   valid/loss: 0.0079   train/acc: 1.0000   valid/acc: 1.0000\n",
            "Epoch 27:   train/loss: 0.0011   valid/loss: 0.0093   train/acc: 1.0000   valid/acc: 1.0000\n",
            "Epoch 28:   train/loss: 0.0057   valid/loss: 0.0089   train/acc: 1.0000   valid/acc: 1.0000\n",
            "Epoch 29:   train/loss: 0.0009   valid/loss: 0.0071   train/acc: 1.0000   valid/acc: 1.0000\n",
            "Epoch 30:   train/loss: 0.0032   valid/loss: 0.0074   train/acc: 1.0000   valid/acc: 1.0000\n",
            "Epoch 31:   train/loss: 0.0007   valid/loss: 0.0087   train/acc: 1.0000   valid/acc: 1.0000\n",
            "Epoch 32:   train/loss: 0.0006   valid/loss: 0.0070   train/acc: 1.0000   valid/acc: 1.0000\n",
            "Epoch 33:   train/loss: 0.0008   valid/loss: 0.0083   train/acc: 0.9941   valid/acc: 1.0000\n",
            "Epoch 34:   train/loss: 0.0009   valid/loss: 0.0059   train/acc: 1.0000   valid/acc: 1.0000\n",
            "Epoch 35:   train/loss: 0.0098   valid/loss: 0.0063   train/acc: 1.0000   valid/acc: 1.0000\n",
            "Epoch 36:   train/loss: 0.0019   valid/loss: 0.0066   train/acc: 1.0000   valid/acc: 1.0000\n",
            "Epoch 37:   train/loss: 0.0018   valid/loss: 0.0061   train/acc: 1.0000   valid/acc: 1.0000\n",
            "Epoch 38:   train/loss: 0.0005   valid/loss: 0.0061   train/acc: 1.0000   valid/acc: 1.0000\n",
            "Epoch 39:   train/loss: 0.0088   valid/loss: 0.0060   train/acc: 1.0000   valid/acc: 1.0000\n",
            "Epoch 40:   train/loss: 0.0023   valid/loss: 0.0059   train/acc: 1.0000   valid/acc: 1.0000\n",
            "Epoch 41:   train/loss: 0.0018   valid/loss: 0.0061   train/acc: 1.0000   valid/acc: 1.0000\n",
            "Epoch 42:   train/loss: 0.0008   valid/loss: 0.0063   train/acc: 1.0000   valid/acc: 1.0000\n",
            "Epoch 43:   train/loss: 0.0018   valid/loss: 0.0059   train/acc: 1.0000   valid/acc: 1.0000\n",
            "Epoch 44:   train/loss: 0.0076   valid/loss: 0.0057   train/acc: 1.0000   valid/acc: 1.0000\n",
            "Epoch 45:   train/loss: 0.0037   valid/loss: 0.0067   train/acc: 1.0000   valid/acc: 1.0000\n",
            "Epoch 46:   train/loss: 0.0004   valid/loss: 0.0060   train/acc: 1.0000   valid/acc: 1.0000\n",
            "Epoch 47:   train/loss: 0.0015   valid/loss: 0.0057   train/acc: 1.0000   valid/acc: 1.0000\n",
            "Epoch 48:   train/loss: 0.0039   valid/loss: 0.0056   train/acc: 1.0000   valid/acc: 1.0000\n",
            "Epoch 49:   train/loss: 0.0006   valid/loss: 0.0060   train/acc: 1.0000   valid/acc: 1.0000\n",
            "Epoch 50:   train/loss: 0.0148   valid/loss: 0.0277   train/acc: 0.9824   valid/acc: 0.9800\n",
            "Epoch 51:   train/loss: 0.0095   valid/loss: 0.0099   train/acc: 0.9882   valid/acc: 1.0000\n",
            "Epoch 52:   train/loss: 0.0025   valid/loss: 0.0059   train/acc: 1.0000   valid/acc: 1.0000\n",
            "Epoch 53:   train/loss: 0.0041   valid/loss: 0.0054   train/acc: 1.0000   valid/acc: 1.0000\n",
            "Epoch 54:   train/loss: 0.0023   valid/loss: 0.0059   train/acc: 1.0000   valid/acc: 1.0000\n",
            "Epoch 55:   train/loss: 0.0034   valid/loss: 0.0057   train/acc: 1.0000   valid/acc: 1.0000\n",
            "Epoch 56:   train/loss: 0.0015   valid/loss: 0.0063   train/acc: 1.0000   valid/acc: 1.0000\n",
            "Epoch 57:   train/loss: 0.0111   valid/loss: 0.0054   train/acc: 1.0000   valid/acc: 1.0000\n",
            "Epoch 58:   train/loss: 0.0019   valid/loss: 0.0057   train/acc: 1.0000   valid/acc: 1.0000\n",
            "Epoch 59:   train/loss: 0.0032   valid/loss: 0.0050   train/acc: 1.0000   valid/acc: 1.0000\n",
            "Epoch 60:   train/loss: 0.0033   valid/loss: 0.0055   train/acc: 1.0000   valid/acc: 1.0000\n",
            "Epoch 61:   train/loss: 0.0002   valid/loss: 0.0057   train/acc: 1.0000   valid/acc: 1.0000\n",
            "Epoch 62:   train/loss: 0.0087   valid/loss: 0.0050   train/acc: 1.0000   valid/acc: 1.0000\n",
            "Epoch 63:   train/loss: 0.0068   valid/loss: 0.0059   train/acc: 1.0000   valid/acc: 1.0000\n",
            "Epoch 64:   train/loss: 0.0015   valid/loss: 0.0052   train/acc: 1.0000   valid/acc: 1.0000\n",
            "Epoch 65:   train/loss: 0.0030   valid/loss: 0.0051   train/acc: 1.0000   valid/acc: 1.0000\n",
            "Epoch 66:   train/loss: 0.0014   valid/loss: 0.0052   train/acc: 1.0000   valid/acc: 1.0000\n",
            "Epoch 67:   train/loss: 0.0025   valid/loss: 0.0047   train/acc: 1.0000   valid/acc: 1.0000\n",
            "Epoch 68:   train/loss: 0.0007   valid/loss: 0.0055   train/acc: 1.0000   valid/acc: 1.0000\n",
            "Epoch 69:   train/loss: 0.0069   valid/loss: 0.0050   train/acc: 1.0000   valid/acc: 1.0000\n",
            "Epoch 70:   train/loss: 0.0014   valid/loss: 0.0052   train/acc: 1.0000   valid/acc: 1.0000\n",
            "Epoch 71:   train/loss: 0.0036   valid/loss: 0.0048   train/acc: 1.0000   valid/acc: 1.0000\n",
            "Epoch 72:   train/loss: 0.0002   valid/loss: 0.0046   train/acc: 1.0000   valid/acc: 1.0000\n",
            "Epoch 73:   train/loss: 0.0006   valid/loss: 0.0045   train/acc: 1.0000   valid/acc: 1.0000\n",
            "Epoch 74:   train/loss: 0.0001   valid/loss: 0.0045   train/acc: 1.0000   valid/acc: 1.0000\n",
            "Epoch 75:   train/loss: 0.0009   valid/loss: 0.0207   train/acc: 0.9941   valid/acc: 0.9800\n",
            "Epoch 76:   train/loss: 0.0672   valid/loss: 0.0350   train/acc: 0.9647   valid/acc: 0.9600\n",
            "Epoch 77:   train/loss: 0.0066   valid/loss: 0.0067   train/acc: 0.9765   valid/acc: 1.0000\n",
            "Epoch 78:   train/loss: 0.0100   valid/loss: 0.0051   train/acc: 1.0000   valid/acc: 1.0000\n",
            "Epoch 79:   train/loss: 0.0098   valid/loss: 0.0048   train/acc: 1.0000   valid/acc: 1.0000\n",
            "Epoch 80:   train/loss: 0.0075   valid/loss: 0.0056   train/acc: 1.0000   valid/acc: 1.0000\n",
            "Epoch 81:   train/loss: 0.0003   valid/loss: 0.0050   train/acc: 1.0000   valid/acc: 1.0000\n",
            "Epoch 82:   train/loss: 0.0034   valid/loss: 0.0048   train/acc: 1.0000   valid/acc: 1.0000\n",
            "Epoch 83:   train/loss: 0.0031   valid/loss: 0.0053   train/acc: 1.0000   valid/acc: 1.0000\n",
            "Epoch 84:   train/loss: 0.0069   valid/loss: 0.0051   train/acc: 1.0000   valid/acc: 1.0000\n",
            "Epoch 85:   train/loss: 0.0064   valid/loss: 0.0052   train/acc: 1.0000   valid/acc: 1.0000\n",
            "Epoch 86:   train/loss: 0.0112   valid/loss: 0.0048   train/acc: 1.0000   valid/acc: 1.0000\n",
            "Epoch 87:   train/loss: 0.0024   valid/loss: 0.0048   train/acc: 1.0000   valid/acc: 1.0000\n",
            "Epoch 88:   train/loss: 0.0038   valid/loss: 0.0050   train/acc: 1.0000   valid/acc: 1.0000\n",
            "Epoch 89:   train/loss: 0.0038   valid/loss: 0.0049   train/acc: 1.0000   valid/acc: 1.0000\n",
            "Epoch 90:   train/loss: 0.0006   valid/loss: 0.0050   train/acc: 1.0000   valid/acc: 1.0000\n",
            "Epoch 91:   train/loss: 0.0021   valid/loss: 0.0046   train/acc: 1.0000   valid/acc: 1.0000\n",
            "Epoch 92:   train/loss: 0.0012   valid/loss: 0.0051   train/acc: 0.9941   valid/acc: 1.0000\n",
            "Epoch 93:   train/loss: 0.0029   valid/loss: 0.0060   train/acc: 1.0000   valid/acc: 1.0000\n",
            "Epoch 94:   train/loss: 0.0026   valid/loss: 0.0067   train/acc: 1.0000   valid/acc: 1.0000\n",
            "Epoch 95:   train/loss: 0.0016   valid/loss: 0.0046   train/acc: 1.0000   valid/acc: 1.0000\n",
            "Epoch 96:   train/loss: 0.0028   valid/loss: 0.0050   train/acc: 1.0000   valid/acc: 1.0000\n",
            "Epoch 97:   train/loss: 0.0005   valid/loss: 0.0049   train/acc: 1.0000   valid/acc: 1.0000\n",
            "Epoch 98:   train/loss: 0.0002   valid/loss: 0.0056   train/acc: 1.0000   valid/acc: 1.0000\n",
            "Epoch 99:   train/loss: 0.0018   valid/loss: 0.0051   train/acc: 1.0000   valid/acc: 1.0000\n",
            "Epoch 100:  train/loss: 0.0001   valid/loss: 0.0055   train/acc: 1.0000   valid/acc: 1.0000\n",
            "\n",
            "Training completed!\n"
          ]
        }
      ],
      "source": [
        "trainer.fit(train_dataset, val_dataset,\n",
        "            minimize_criterion=False)"
      ]
    },
    {
      "cell_type": "markdown",
      "metadata": {
        "id": "QXKVfIMP0DJA"
      },
      "source": [
        "## Results\n",
        "\n",
        "Finally, we visualise the results and evaluate the model on the test data."
      ]
    },
    {
      "cell_type": "code",
      "execution_count": 19,
      "metadata": {
        "colab": {
          "base_uri": "https://localhost:8080/",
          "height": 582
        },
        "id": "osCHfGsw0DJA",
        "outputId": "88b5a6a9-9f05-4782-fea8-de5cfb6daca9"
      },
      "outputs": [
        {
          "name": "stdout",
          "output_type": "stream",
          "text": [
            "Final test accuracy: 0.9833333333333333\n"
          ]
        },
        {
          "data": {
            "image/png": "[encoded data removed]",
            "text/plain": [
              "<Figure size 720x432 with 4 Axes>"
            ]
          },
          "metadata": {
            "needs_background": "light"
          },
          "output_type": "display_data"
        }
      ],
      "source": [
        "import matplotlib.pyplot as plt\n",
        "\n",
        "fig, ((ax_tl, ax_tr), (ax_bl, ax_br)) = plt.subplots(2, 2,\n",
        "                                                     sharex=True,\n",
        "                                                     sharey='row',\n",
        "                                                     figsize=(10, 6))\n",
        "ax_tl.set_title('Training set')\n",
        "ax_tr.set_title('Development set')\n",
        "ax_bl.set_xlabel('Iterations')\n",
        "ax_br.set_xlabel('Iterations')\n",
        "ax_bl.set_ylabel('Accuracy')\n",
        "ax_tl.set_ylabel('Loss')\n",
        "\n",
        "colours = iter(plt.rcParams['axes.prop_cycle'].by_key()['color'])\n",
        "range_ = np.arange(1, trainer.epochs+1)\n",
        "ax_tl.plot(range_, trainer.train_epoch_costs, color=next(colours))\n",
        "ax_bl.plot(range_, trainer.train_eval_results['acc'], color=next(colours))\n",
        "ax_tr.plot(range_, trainer.val_costs, color=next(colours))\n",
        "ax_br.plot(range_, trainer.val_eval_results['acc'], color=next(colours))\n",
        "\n",
        "# print test accuracy\n",
        "pred = model(test_circuits)\n",
        "labels = torch.tensor(test_labels)\n",
        "\n",
        "print('Final test accuracy: {}'.format(acc(pred, labels)))"
      ]
    }
  ],
  "metadata": {
    "colab": {
      "provenance": [],
      "toc_visible": true
    },
    "kernelspec": {
      "display_name": "Python 3",
      "language": "python",
      "name": "python3"
    },
    "language_info": {
      "codemirror_mode": {
        "name": "ipython",
        "version": 3
      },
      "file_extension": ".py",
      "mimetype": "text/x-python",
      "name": "python",
      "nbconvert_exporter": "python",
      "pygments_lexer": "ipython3",
      "version": "3.9.6"
    }
  },
  "nbformat": 4,
  "nbformat_minor": 0
}
